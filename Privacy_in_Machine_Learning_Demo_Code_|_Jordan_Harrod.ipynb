{
  "nbformat": 4,
  "nbformat_minor": 0,
  "metadata": {
    "colab": {
      "name": "Privacy in Machine Learning - Demo Code | Jordan Harrod.ipynb",
      "provenance": [],
      "collapsed_sections": [],
      "include_colab_link": true
    },
    "kernelspec": {
      "name": "python3",
      "display_name": "Python 3"
    }
  },
  "cells": [
    {
      "cell_type": "markdown",
      "metadata": {
        "id": "view-in-github",
        "colab_type": "text"
      },
      "source": [
        "<a href=\"https://colab.research.google.com/github/jamespaultg/PrivacyPreservingAnalytics/blob/master/Privacy_in_Machine_Learning_Demo_Code_%7C_Jordan_Harrod.ipynb\" target=\"_parent\"><img src=\"https://colab.research.google.com/assets/colab-badge.svg\" alt=\"Open In Colab\"/></a>"
      ]
    },
    {
      "cell_type": "markdown",
      "metadata": {
        "id": "8ycsvl36oDQJ",
        "colab_type": "text"
      },
      "source": [
        "# Welcome to the notebook for the Privacy in Machine Learning vider from Jordan Harrod's AI 101 series on YouTube! \n",
        "\n",
        "If you haven't already watched the video, you can check it out here: https://www.youtube.com/watch?v=MOcTGM_UteM\n",
        "\n",
        "This notebook contains two examples of how differential privacy and federated learning work, relying on existing code libraries that simplify their implementations for programmers who are not cryptography experts (like me!). \n",
        "\n",
        "# **These examples are adapted from the examples provided by the developers of each library - all credit goes to the original authors. **\n",
        "\n",
        "To run any of the examples, click on \"Open in Playground\" on the top left, then hover over the top left corner of any code block and click on the arrow that appears.\n",
        "\n",
        "Links to the relevant libraries can be found here: \n",
        "\n",
        "IBM Differential Privacy - https://github.com/IBM/differential-privacy-library\n",
        "\n",
        "PySyft - https://github.com/OpenMined/PySyft\n",
        "\n"
      ]
    },
    {
      "cell_type": "code",
      "metadata": {
        "id": "2mbZgswvZAPc",
        "colab_type": "code",
        "outputId": "895d4a8b-8a11-47cb-cc11-19ac6a350e52",
        "colab": {
          "base_uri": "https://localhost:8080/",
          "height": 1000
        }
      },
      "source": [
        "# This code block downloads, installs, and imports the relevant libraries. \n",
        "\n",
        "!pip install numpy\n",
        "!pip install scikit-learn\n",
        "!pip install syft[udacity]\n",
        "!pip install diffprivlib\n",
        "\n",
        "import numpy \n",
        "import sklearn \n",
        "from sklearn import datasets\n",
        "import syft \n",
        "import diffprivlib\n",
        "import matplotlib.pyplot as plt\n",
        "import torch \n",
        "from torch import nn\n",
        "from torch import optim"
      ],
      "execution_count": 0,
      "outputs": [
        {
          "output_type": "stream",
          "text": [
            "Requirement already satisfied: numpy in /usr/local/lib/python3.6/dist-packages (1.17.5)\n",
            "Requirement already satisfied: scikit-learn in /usr/local/lib/python3.6/dist-packages (0.22.1)\n",
            "Requirement already satisfied: scipy>=0.17.0 in /usr/local/lib/python3.6/dist-packages (from scikit-learn) (1.4.1)\n",
            "Requirement already satisfied: joblib>=0.11 in /usr/local/lib/python3.6/dist-packages (from scikit-learn) (0.14.1)\n",
            "Requirement already satisfied: numpy>=1.11.0 in /usr/local/lib/python3.6/dist-packages (from scikit-learn) (1.17.5)\n",
            "Requirement already satisfied: syft[udacity] in /usr/local/lib/python3.6/dist-packages (0.2.3a3)\n",
            "Requirement already satisfied: requests==2.22.0 in /usr/local/lib/python3.6/dist-packages (from syft[udacity]) (2.22.0)\n",
            "Requirement already satisfied: syft-proto>=0.2.1.a1.post2 in /usr/local/lib/python3.6/dist-packages (from syft[udacity]) (0.2.1a1.post2)\n",
            "Requirement already satisfied: msgpack>=1.0.0 in /usr/local/lib/python3.6/dist-packages (from syft[udacity]) (1.0.0)\n",
            "Requirement already satisfied: numpy>=1.16.0 in /usr/local/lib/python3.6/dist-packages (from syft[udacity]) (1.17.5)\n",
            "Requirement already satisfied: lz4>=2.1.6 in /usr/local/lib/python3.6/dist-packages (from syft[udacity]) (3.0.2)\n",
            "Requirement already satisfied: tblib>=1.4.0 in /usr/local/lib/python3.6/dist-packages (from syft[udacity]) (1.6.0)\n",
            "Requirement already satisfied: torchvision==0.5.0 in /usr/local/lib/python3.6/dist-packages (from syft[udacity]) (0.5.0)\n",
            "Requirement already satisfied: flask-socketio>=3.3.2 in /usr/local/lib/python3.6/dist-packages (from syft[udacity]) (4.2.1)\n",
            "Requirement already satisfied: scipy>=1.4.1 in /usr/local/lib/python3.6/dist-packages (from syft[udacity]) (1.4.1)\n",
            "Requirement already satisfied: phe>=1.4.0 in /usr/local/lib/python3.6/dist-packages (from syft[udacity]) (1.4.0)\n",
            "Requirement already satisfied: websockets>=7.0 in /usr/local/lib/python3.6/dist-packages (from syft[udacity]) (8.1)\n",
            "Requirement already satisfied: zstd>=1.4.0.0 in /usr/local/lib/python3.6/dist-packages (from syft[udacity]) (1.4.4.0)\n",
            "Requirement already satisfied: torch==1.4 in /usr/local/lib/python3.6/dist-packages (from syft[udacity]) (1.4.0)\n",
            "Requirement already satisfied: Pillow<7 in /usr/local/lib/python3.6/dist-packages (from syft[udacity]) (6.2.2)\n",
            "Requirement already satisfied: Flask>=1.0.2 in /usr/local/lib/python3.6/dist-packages (from syft[udacity]) (1.1.1)\n",
            "Requirement already satisfied: websocket-client>=0.56.0 in /usr/local/lib/python3.6/dist-packages (from syft[udacity]) (0.57.0)\n",
            "Requirement already satisfied: tf-encrypted<0.6.0!=0.5.7,>=0.5.4; extra == \"udacity\" in /usr/local/lib/python3.6/dist-packages (from syft[udacity]) (0.5.9)\n",
            "Requirement already satisfied: idna<2.9,>=2.5 in /usr/local/lib/python3.6/dist-packages (from requests==2.22.0->syft[udacity]) (2.8)\n",
            "Requirement already satisfied: chardet<3.1.0,>=3.0.2 in /usr/local/lib/python3.6/dist-packages (from requests==2.22.0->syft[udacity]) (3.0.4)\n",
            "Requirement already satisfied: urllib3!=1.25.0,!=1.25.1,<1.26,>=1.21.1 in /usr/local/lib/python3.6/dist-packages (from requests==2.22.0->syft[udacity]) (1.24.3)\n",
            "Requirement already satisfied: certifi>=2017.4.17 in /usr/local/lib/python3.6/dist-packages (from requests==2.22.0->syft[udacity]) (2019.11.28)\n",
            "Requirement already satisfied: protobuf>=3.11.1 in /usr/local/lib/python3.6/dist-packages (from syft-proto>=0.2.1.a1.post2->syft[udacity]) (3.11.3)\n",
            "Requirement already satisfied: six in /usr/local/lib/python3.6/dist-packages (from torchvision==0.5.0->syft[udacity]) (1.12.0)\n",
            "Requirement already satisfied: python-socketio>=4.3.0 in /usr/local/lib/python3.6/dist-packages (from flask-socketio>=3.3.2->syft[udacity]) (4.4.0)\n",
            "Requirement already satisfied: Jinja2>=2.10.1 in /usr/local/lib/python3.6/dist-packages (from Flask>=1.0.2->syft[udacity]) (2.11.1)\n",
            "Requirement already satisfied: Werkzeug>=0.15 in /usr/local/lib/python3.6/dist-packages (from Flask>=1.0.2->syft[udacity]) (1.0.0)\n",
            "Requirement already satisfied: itsdangerous>=0.24 in /usr/local/lib/python3.6/dist-packages (from Flask>=1.0.2->syft[udacity]) (1.1.0)\n",
            "Requirement already satisfied: click>=5.1 in /usr/local/lib/python3.6/dist-packages (from Flask>=1.0.2->syft[udacity]) (7.0)\n",
            "Requirement already satisfied: pyyaml>=5.1 in /usr/local/lib/python3.6/dist-packages (from tf-encrypted<0.6.0!=0.5.7,>=0.5.4; extra == \"udacity\"->syft[udacity]) (5.3)\n",
            "Requirement already satisfied: tensorflow<2,>=1.12.0 in /usr/local/lib/python3.6/dist-packages (from tf-encrypted<0.6.0!=0.5.7,>=0.5.4; extra == \"udacity\"->syft[udacity]) (1.15.0)\n",
            "Requirement already satisfied: setuptools in /usr/local/lib/python3.6/dist-packages (from protobuf>=3.11.1->syft-proto>=0.2.1.a1.post2->syft[udacity]) (45.1.0)\n",
            "Requirement already satisfied: python-engineio>=3.9.0 in /usr/local/lib/python3.6/dist-packages (from python-socketio>=4.3.0->flask-socketio>=3.3.2->syft[udacity]) (3.11.2)\n",
            "Requirement already satisfied: MarkupSafe>=0.23 in /usr/local/lib/python3.6/dist-packages (from Jinja2>=2.10.1->Flask>=1.0.2->syft[udacity]) (1.1.1)\n",
            "Requirement already satisfied: google-pasta>=0.1.6 in /usr/local/lib/python3.6/dist-packages (from tensorflow<2,>=1.12.0->tf-encrypted<0.6.0!=0.5.7,>=0.5.4; extra == \"udacity\"->syft[udacity]) (0.1.8)\n",
            "Requirement already satisfied: astor>=0.6.0 in /usr/local/lib/python3.6/dist-packages (from tensorflow<2,>=1.12.0->tf-encrypted<0.6.0!=0.5.7,>=0.5.4; extra == \"udacity\"->syft[udacity]) (0.8.1)\n",
            "Requirement already satisfied: absl-py>=0.7.0 in /usr/local/lib/python3.6/dist-packages (from tensorflow<2,>=1.12.0->tf-encrypted<0.6.0!=0.5.7,>=0.5.4; extra == \"udacity\"->syft[udacity]) (0.9.0)\n",
            "Requirement already satisfied: gast==0.2.2 in /usr/local/lib/python3.6/dist-packages (from tensorflow<2,>=1.12.0->tf-encrypted<0.6.0!=0.5.7,>=0.5.4; extra == \"udacity\"->syft[udacity]) (0.2.2)\n",
            "Requirement already satisfied: wrapt>=1.11.1 in /usr/local/lib/python3.6/dist-packages (from tensorflow<2,>=1.12.0->tf-encrypted<0.6.0!=0.5.7,>=0.5.4; extra == \"udacity\"->syft[udacity]) (1.11.2)\n",
            "Requirement already satisfied: opt-einsum>=2.3.2 in /usr/local/lib/python3.6/dist-packages (from tensorflow<2,>=1.12.0->tf-encrypted<0.6.0!=0.5.7,>=0.5.4; extra == \"udacity\"->syft[udacity]) (3.1.0)\n",
            "Requirement already satisfied: termcolor>=1.1.0 in /usr/local/lib/python3.6/dist-packages (from tensorflow<2,>=1.12.0->tf-encrypted<0.6.0!=0.5.7,>=0.5.4; extra == \"udacity\"->syft[udacity]) (1.1.0)\n",
            "Requirement already satisfied: keras-preprocessing>=1.0.5 in /usr/local/lib/python3.6/dist-packages (from tensorflow<2,>=1.12.0->tf-encrypted<0.6.0!=0.5.7,>=0.5.4; extra == \"udacity\"->syft[udacity]) (1.1.0)\n",
            "Requirement already satisfied: keras-applications>=1.0.8 in /usr/local/lib/python3.6/dist-packages (from tensorflow<2,>=1.12.0->tf-encrypted<0.6.0!=0.5.7,>=0.5.4; extra == \"udacity\"->syft[udacity]) (1.0.8)\n",
            "Requirement already satisfied: grpcio>=1.8.6 in /usr/local/lib/python3.6/dist-packages (from tensorflow<2,>=1.12.0->tf-encrypted<0.6.0!=0.5.7,>=0.5.4; extra == \"udacity\"->syft[udacity]) (1.27.1)\n",
            "Requirement already satisfied: tensorboard<1.16.0,>=1.15.0 in /usr/local/lib/python3.6/dist-packages (from tensorflow<2,>=1.12.0->tf-encrypted<0.6.0!=0.5.7,>=0.5.4; extra == \"udacity\"->syft[udacity]) (1.15.0)\n",
            "Requirement already satisfied: tensorflow-estimator==1.15.1 in /usr/local/lib/python3.6/dist-packages (from tensorflow<2,>=1.12.0->tf-encrypted<0.6.0!=0.5.7,>=0.5.4; extra == \"udacity\"->syft[udacity]) (1.15.1)\n",
            "Requirement already satisfied: wheel>=0.26 in /usr/local/lib/python3.6/dist-packages (from tensorflow<2,>=1.12.0->tf-encrypted<0.6.0!=0.5.7,>=0.5.4; extra == \"udacity\"->syft[udacity]) (0.34.2)\n",
            "Requirement already satisfied: h5py in /usr/local/lib/python3.6/dist-packages (from keras-applications>=1.0.8->tensorflow<2,>=1.12.0->tf-encrypted<0.6.0!=0.5.7,>=0.5.4; extra == \"udacity\"->syft[udacity]) (2.8.0)\n",
            "Requirement already satisfied: markdown>=2.6.8 in /usr/local/lib/python3.6/dist-packages (from tensorboard<1.16.0,>=1.15.0->tensorflow<2,>=1.12.0->tf-encrypted<0.6.0!=0.5.7,>=0.5.4; extra == \"udacity\"->syft[udacity]) (3.2.1)\n",
            "Requirement already satisfied: diffprivlib in /usr/local/lib/python3.6/dist-packages (0.2.0)\n",
            "Requirement already satisfied: joblib>=0.13.2 in /usr/local/lib/python3.6/dist-packages (from diffprivlib) (0.14.1)\n",
            "Requirement already satisfied: numpy>=1.15.0 in /usr/local/lib/python3.6/dist-packages (from diffprivlib) (1.17.5)\n",
            "Requirement already satisfied: scikit-learn>=0.20.3 in /usr/local/lib/python3.6/dist-packages (from diffprivlib) (0.22.1)\n",
            "Requirement already satisfied: scipy>=1.2.1 in /usr/local/lib/python3.6/dist-packages (from diffprivlib) (1.4.1)\n",
            "Requirement already satisfied: setuptools>=39.0.1 in /usr/local/lib/python3.6/dist-packages (from diffprivlib) (45.1.0)\n"
          ],
          "name": "stdout"
        }
      ]
    },
    {
      "cell_type": "markdown",
      "metadata": {
        "id": "RALpbVS6pJG1",
        "colab_type": "text"
      },
      "source": [
        "Our first example focuses on differential privacy. Here, we can create a figure that compares the accuracy of our predictions with the level of privacy on our data by changing epsilon. \n",
        "\n",
        "This example has been adapted from the example provided in the IBM Differential Privacy Github Repository - see sources at the top for the original version. "
      ]
    },
    {
      "cell_type": "code",
      "metadata": {
        "id": "UmS1Rmo8pb4O",
        "colab_type": "code",
        "outputId": "11cb37df-16a9-46a9-8b6a-f5865a74ef82",
        "colab": {
          "base_uri": "https://localhost:8080/",
          "height": 523
        }
      },
      "source": [
        "data, labels = datasets.load_iris(return_X_y=True)\n",
        "data_train, data_test, labels_train, labels_test = sklearn.model_selection.train_test_split(data, labels)\n",
        "\n",
        "def sweep(eps=[0.00001, 0.001, 0.01, 10, 1000, 10000]):\n",
        "  accuracy = [] \n",
        "  for i in range(len(eps)):\n",
        "    model = diffprivlib.models.GaussianNB(epsilon=eps[i])\n",
        "    model.fit(data_train, labels_train)\n",
        "    accuracy.append(sklearn.metrics.accuracy_score(labels_test, model.predict(data_test)))\n",
        "  return accuracy \n",
        "\n",
        "eps=[0.00001, 0.001, 0.01, 10, 1000, 10000] # Try changing these values to see how the accuracy plot changes! \n",
        "\n",
        "accuracy = sweep(eps)\n",
        "\n",
        "\n",
        "plt.figure() # notice that the accuracy for each value changes every time you run it with the same values \n",
        "plt.semilogx(eps, accuracy) # this is because random noise is... well, random, so the accuracy shifts a bit based on how the data was altered each time! \n",
        "plt.title('Privacy-Accuracy Trade-Off')\n",
        "plt.xlabel('Epsilon')\n",
        "plt.ylabel('Accuracy')\n",
        "plt.show()\n",
        "\n"
      ],
      "execution_count": 0,
      "outputs": [
        {
          "output_type": "stream",
          "text": [
            "/usr/local/lib/python3.6/dist-packages/diffprivlib/models/naive_bayes.py:93: PrivacyLeakWarning: Bounds have not been specified and will be calculated on the data provided. This will result in additional privacy leakage. To ensure differential privacy and no additional privacy leakage, specify bounds for each dimension.\n",
            "  \"privacy leakage, specify bounds for each dimension.\", PrivacyLeakWarning)\n",
            "/usr/local/lib/python3.6/dist-packages/diffprivlib/models/naive_bayes.py:93: PrivacyLeakWarning: Bounds have not been specified and will be calculated on the data provided. This will result in additional privacy leakage. To ensure differential privacy and no additional privacy leakage, specify bounds for each dimension.\n",
            "  \"privacy leakage, specify bounds for each dimension.\", PrivacyLeakWarning)\n",
            "/usr/local/lib/python3.6/dist-packages/diffprivlib/models/naive_bayes.py:93: PrivacyLeakWarning: Bounds have not been specified and will be calculated on the data provided. This will result in additional privacy leakage. To ensure differential privacy and no additional privacy leakage, specify bounds for each dimension.\n",
            "  \"privacy leakage, specify bounds for each dimension.\", PrivacyLeakWarning)\n",
            "/usr/local/lib/python3.6/dist-packages/diffprivlib/models/naive_bayes.py:93: PrivacyLeakWarning: Bounds have not been specified and will be calculated on the data provided. This will result in additional privacy leakage. To ensure differential privacy and no additional privacy leakage, specify bounds for each dimension.\n",
            "  \"privacy leakage, specify bounds for each dimension.\", PrivacyLeakWarning)\n",
            "/usr/local/lib/python3.6/dist-packages/diffprivlib/models/naive_bayes.py:93: PrivacyLeakWarning: Bounds have not been specified and will be calculated on the data provided. This will result in additional privacy leakage. To ensure differential privacy and no additional privacy leakage, specify bounds for each dimension.\n",
            "  \"privacy leakage, specify bounds for each dimension.\", PrivacyLeakWarning)\n",
            "/usr/local/lib/python3.6/dist-packages/diffprivlib/models/naive_bayes.py:93: PrivacyLeakWarning: Bounds have not been specified and will be calculated on the data provided. This will result in additional privacy leakage. To ensure differential privacy and no additional privacy leakage, specify bounds for each dimension.\n",
            "  \"privacy leakage, specify bounds for each dimension.\", PrivacyLeakWarning)\n"
          ],
          "name": "stderr"
        },
        {
          "output_type": "display_data",
          "data": {
            "image/png": "[encoded data removed]",
            "text/plain": [
              "<Figure size 432x288 with 1 Axes>"
            ]
          },
          "metadata": {
            "tags": []
          }
        }
      ]
    },
    {
      "cell_type": "markdown",
      "metadata": {
        "id": "RBKynGE5p3xk",
        "colab_type": "text"
      },
      "source": [
        "Our second example focuses federated learning, using a library called PySyft. \n",
        "\n",
        "This example is adapted from the federated learning tutorial here: https://github.com/OpenMined/PySyft/blob/master/examples/tutorials/Part%2002%20-%20Intro%20to%20Federated%20Learning.ipynb \n",
        "\n",
        "Edit 2/29/20: A note on this example (which is also pointed out on the OpenMinded tutorial) - this is meant to show how the learning process works when you're pulling from separate datasets, but this process actually doesn't ensure privacy! You can call model.get() to learn about how to predict well on Alice's data without having seen it, which can help you learn more about the dataset itself, even potentially replicating it perfectly. A way to avoid this is to average Bob and Alice's model updates before sending them to the global model as we talked about in the video! Thanks to u//raj111sam for pointing this out on the r/artificial subreddit. "
      ]
    },
    {
      "cell_type": "code",
      "metadata": {
        "id": "cEULrQNuuI-o",
        "colab_type": "code",
        "outputId": "2754c3f2-a49d-46a5-a7a5-061b8004d332",
        "colab": {
          "base_uri": "https://localhost:8080/",
          "height": 374
        }
      },
      "source": [
        "hook = syft.TorchHook(torch)\n",
        "\n",
        "bob = syft.VirtualWorker(hook, id=\"bob\")\n",
        "alice = syft.VirtualWorker(hook, id=\"alice\")\n",
        "\n",
        "data = torch.tensor([[0,0],[0,1],[1,0],[1,1.]], requires_grad=True)\n",
        "target = torch.tensor([[0],[0],[1],[1.]], requires_grad=True)\n",
        "\n",
        "# get pointers to training data on each worker by\n",
        "# sending some training data to bob and alice\n",
        "data_bob = data[0:2]\n",
        "target_bob = target[0:2]\n",
        "\n",
        "data_alice = data[2:]\n",
        "target_alice = target[2:]\n",
        "\n",
        "# Iniitalize A Toy Model\n",
        "model = nn.Linear(2,1)\n",
        "\n",
        "data_bob = data_bob.send(bob)\n",
        "data_alice = data_alice.send(alice)\n",
        "target_bob = target_bob.send(bob)\n",
        "target_alice = target_alice.send(alice)\n",
        "\n",
        "# organize pointers into a list\n",
        "datasets = [(data_bob,target_bob),(data_alice,target_alice)]\n",
        "\n",
        "opt = optim.SGD(params=model.parameters(),lr=0.1)\n",
        "\n",
        "def train():\n",
        "    # Training Logic\n",
        "    opt = optim.SGD(params=model.parameters(),lr=0.1)\n",
        "    for iter in range(10):\n",
        "        \n",
        "        # NEW) iterate through each worker's dataset separately\n",
        "        for data,target in datasets:\n",
        "            \n",
        "            # NEW) send model to correct worker - either Alice or Bob\n",
        "            model.send(data.location)\n",
        "\n",
        "            # 1) Reset the optimizer so that we can develop a new model\n",
        "            opt.zero_grad()\n",
        "\n",
        "            # 2) Predict on new (unseen) data using the model from the cloud\n",
        "            pred = model(data)\n",
        "\n",
        "            # 3) See how well (or not) we did on that prediction\n",
        "            loss = ((pred - target)**2).sum()\n",
        "\n",
        "            # 4) Figure out why we performed poorly\n",
        "            loss.backward()\n",
        "\n",
        "            # 5) Update the model's weights \n",
        "            opt.step()\n",
        "            \n",
        "            # NEW) Get the new model, to be tested and improved on a new, separate dataset \n",
        "            model.get()\n",
        "\n",
        "            # 6) print our progress\n",
        "            print(loss.get()) # NEW) slight edit... need to call .get() on loss\\\n",
        "    \n",
        "# federated averaging\n",
        "\n",
        "train()"
      ],
      "execution_count": 0,
      "outputs": [
        {
          "output_type": "stream",
          "text": [
            "WARNING:root:Torch was already hooked... skipping hooking process\n"
          ],
          "name": "stderr"
        },
        {
          "output_type": "stream",
          "text": [
            "tensor(0.4024, requires_grad=True)\n",
            "tensor(1.5361, requires_grad=True)\n",
            "tensor(0.9169, requires_grad=True)\n",
            "tensor(0.3524, requires_grad=True)\n",
            "tensor(0.6367, requires_grad=True)\n",
            "tensor(0.2119, requires_grad=True)\n",
            "tensor(0.4217, requires_grad=True)\n",
            "tensor(0.1414, requires_grad=True)\n",
            "tensor(0.2818, requires_grad=True)\n",
            "tensor(0.0966, requires_grad=True)\n",
            "tensor(0.1906, requires_grad=True)\n",
            "tensor(0.0672, requires_grad=True)\n",
            "tensor(0.1304, requires_grad=True)\n",
            "tensor(0.0475, requires_grad=True)\n",
            "tensor(0.0902, requires_grad=True)\n",
            "tensor(0.0340, requires_grad=True)\n",
            "tensor(0.0630, requires_grad=True)\n",
            "tensor(0.0246, requires_grad=True)\n",
            "tensor(0.0445, requires_grad=True)\n",
            "tensor(0.0180, requires_grad=True)\n"
          ],
          "name": "stdout"
        }
      ]
    }
  ]
}